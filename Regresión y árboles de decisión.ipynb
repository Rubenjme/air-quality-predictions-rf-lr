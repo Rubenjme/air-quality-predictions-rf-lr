{
 "cells": [
  {
   "cell_type": "markdown",
   "metadata": {},
   "source": [
    "# <b> Regresión lineal y árboles de decisión para tareas de regresión </b>"
   ]
  },
  {
   "cell_type": "markdown",
   "metadata": {},
   "source": [
    "---"
   ]
  },
  {
   "cell_type": "markdown",
   "metadata": {},
   "source": [
    "## Objetivos\n",
    "\n",
    "Se pretende poner en práctica los pasos para la resolución de un problema de machine learning, el tratamiento de datos y la creación de modelos basados en regresión lineal y árboles de decisión. El objetivo es entender de forma práctica con un problema las diferencias que existen a la hora de entrenar los diferentes modelos.\n",
    "\n",
    "- Realizar un Análisis Exploratorio de Datos (EDA).\n",
    "- Entender y aplicar los conceptos de la Regresión Lineal Múltiple a un problema de regresión.\n",
    "- Entender y aplicar los conceptos de Árboles de Decisión a un problema de regresión.\n",
    "- Evaluar y analizar los resultados."
   ]
  },
  {
   "cell_type": "markdown",
   "metadata": {},
   "source": [
    "## Descripción del proyecto\n",
    "\n",
    "El conjunto de datos con el que se va a trabajar se encuentra en el siguiente enlace: https://archive.ics.uci.edu/dataset/360/air+quality\n",
    "\n",
    "Se trata de un dataset con un conjunto de datos sobre calidad del aire. El conjunto de datos contiene 9358 instancias de respuestas promediadas por hora de una matriz de 5 sensores químicos de óxido de metal integrados en un dispositivo multisensor químico de calidad del aire. El dispositivo estaba ubicado en un área significativamente contaminada, al nivel de la carretera, dentro de una ciudad italiana. Los datos se registraron desde marzo de 2004 hasta febrero de 2005.\n",
    "\n",
    "El objetivo de la regresión será predecir la calidad del aire para un determinado día."
   ]
  },
  {
   "cell_type": "markdown",
   "metadata": {},
   "source": [
    "***"
   ]
  },
  {
   "cell_type": "markdown",
   "metadata": {},
   "source": [
    "### <b> Análisis descriptivo de los datos </b>\n",
    "\n",
    "Con este análisis se busca explorar, resumir y visualizar los datos para comprender su estructura, patrones y características principales antes de aplicar cualquier modelo de aprendizaje.\n"
   ]
  },
  {
   "cell_type": "code",
   "execution_count": 358,
   "metadata": {},
   "outputs": [],
   "source": [
    "## Carga del dataset\n",
    "import pandas as pd\n",
    "\n",
    "dataset = pd.read_csv('air+quality/AirQualityUCI.csv', delimiter=';')"
   ]
  },
  {
   "cell_type": "markdown",
   "metadata": {},
   "source": [
    "#### <b> ¿Cuántas instancias tiene el dataset? ¿Hay valores nulos? </b>"
   ]
  },
  {
   "cell_type": "code",
   "execution_count": 359,
   "metadata": {},
   "outputs": [
    {
     "name": "stdout",
     "output_type": "stream",
     "text": [
      "Sin depurar tiene 9471 instancias.\n",
      "__________________________________________\n",
      "Date              114\n",
      "Time              114\n",
      "CO(GT)            114\n",
      "PT08.S1(CO)       114\n",
      "NMHC(GT)          114\n",
      "C6H6(GT)          114\n",
      "PT08.S2(NMHC)     114\n",
      "NOx(GT)           114\n",
      "PT08.S3(NOx)      114\n",
      "NO2(GT)           114\n",
      "PT08.S4(NO2)      114\n",
      "PT08.S5(O3)       114\n",
      "T                 114\n",
      "RH                114\n",
      "AH                114\n",
      "Unnamed: 15      9471\n",
      "Unnamed: 16      9471\n",
      "dtype: int64\n",
      "__________________________________________\n"
     ]
    }
   ],
   "source": [
    "import numpy as np\n",
    "\n",
    "n_instancias = dataset.shape[0]\n",
    "print(f\"Sin depurar tiene {n_instancias} instancias.\") #Aparecen 9471 instancias\n",
    "print('_' * 42)\n",
    "\n",
    "print(dataset.isnull().sum()) #Nulos por columna\n",
    "print('_' * 42)"
   ]
  },
  {
   "cell_type": "markdown",
   "metadata": {},
   "source": [
    "Se muestra que hay 9471 instancias, lo cuál no coincide con lo indicado en la descripción de la web del dataset.\n",
    "\n",
    "Hay que hacer un proceso de limpieza de los datos debido a que:\n",
    " - Las columnas 15 y 16 no tienen datos.\n",
    " - El resto de datos tiene 114 filas nulas."
   ]
  },
  {
   "cell_type": "code",
   "execution_count": 360,
   "metadata": {},
   "outputs": [
    {
     "name": "stdout",
     "output_type": "stream",
     "text": [
      "Date             0\n",
      "Time             0\n",
      "CO(GT)           0\n",
      "PT08.S1(CO)      0\n",
      "NMHC(GT)         0\n",
      "C6H6(GT)         0\n",
      "PT08.S2(NMHC)    0\n",
      "NOx(GT)          0\n",
      "PT08.S3(NOx)     0\n",
      "NO2(GT)          0\n",
      "PT08.S4(NO2)     0\n",
      "PT08.S5(O3)      0\n",
      "T                0\n",
      "RH               0\n",
      "AH               0\n",
      "dtype: int64\n",
      "__________________________________________\n",
      "Depurado tiene 9357 instancias.\n"
     ]
    }
   ],
   "source": [
    "dataset.dropna(how='all', inplace=True)  # Elimino las filas donde todos sus valores son nulos\n",
    "dataset.drop(columns=['Unnamed: 15', 'Unnamed: 16'], inplace=True) # Elimino las columnas que tienen todos sus valores nulos\n",
    "n_instancias = dataset.shape[0]\n",
    "\n",
    "print(dataset.isnull().sum()) #Números de nulos por columna\n",
    "print('_' * 42)\n",
    "print(f\"Depurado tiene {n_instancias} instancias.\") #Aparecen 9357 instancias"
   ]
  },
  {
   "cell_type": "markdown",
   "metadata": {},
   "source": [
    "Decido eliminar las filas donde todos sus valores son nulos. Además elimino las columnas 15 y 16 cuyos valores son todos nulos.\n",
    "Tras depurar el dataset aparecen <b> 9357 instancias </b> que si coincide con lo indicado en la descripción de la web del dataset."
   ]
  },
  {
   "cell_type": "markdown",
   "metadata": {},
   "source": [
    "#### <b> ¿Cuál es el tipo de datos de cada una de las columnas? ¿Cuántas columnas categóricas hay? ¿Cuántas continuas? </b>"
   ]
  },
  {
   "cell_type": "code",
   "execution_count": 361,
   "metadata": {},
   "outputs": [
    {
     "name": "stdout",
     "output_type": "stream",
     "text": [
      "<class 'pandas.core.frame.DataFrame'>\n",
      "Index: 9357 entries, 0 to 9356\n",
      "Data columns (total 15 columns):\n",
      " #   Column         Non-Null Count  Dtype  \n",
      "---  ------         --------------  -----  \n",
      " 0   Date           9357 non-null   object \n",
      " 1   Time           9357 non-null   object \n",
      " 2   CO(GT)         9357 non-null   object \n",
      " 3   PT08.S1(CO)    9357 non-null   float64\n",
      " 4   NMHC(GT)       9357 non-null   float64\n",
      " 5   C6H6(GT)       9357 non-null   object \n",
      " 6   PT08.S2(NMHC)  9357 non-null   float64\n",
      " 7   NOx(GT)        9357 non-null   float64\n",
      " 8   PT08.S3(NOx)   9357 non-null   float64\n",
      " 9   NO2(GT)        9357 non-null   float64\n",
      " 10  PT08.S4(NO2)   9357 non-null   float64\n",
      " 11  PT08.S5(O3)    9357 non-null   float64\n",
      " 12  T              9357 non-null   object \n",
      " 13  RH             9357 non-null   object \n",
      " 14  AH             9357 non-null   object \n",
      "dtypes: float64(8), object(7)\n",
      "memory usage: 1.1+ MB\n",
      "__________________________________________\n",
      "<class 'pandas.core.frame.DataFrame'>\n",
      "Index: 9357 entries, 0 to 9356\n",
      "Data columns (total 15 columns):\n",
      " #   Column         Non-Null Count  Dtype  \n",
      "---  ------         --------------  -----  \n",
      " 0   Date           9357 non-null   object \n",
      " 1   Time           9357 non-null   object \n",
      " 2   CO(GT)         9357 non-null   float64\n",
      " 3   PT08.S1(CO)    9357 non-null   float64\n",
      " 4   NMHC(GT)       9357 non-null   float64\n",
      " 5   C6H6(GT)       9357 non-null   float64\n",
      " 6   PT08.S2(NMHC)  9357 non-null   float64\n",
      " 7   NOx(GT)        9357 non-null   float64\n",
      " 8   PT08.S3(NOx)   9357 non-null   float64\n",
      " 9   NO2(GT)        9357 non-null   float64\n",
      " 10  PT08.S4(NO2)   9357 non-null   float64\n",
      " 11  PT08.S5(O3)    9357 non-null   float64\n",
      " 12  T              9357 non-null   float64\n",
      " 13  RH             9357 non-null   float64\n",
      " 14  AH             9357 non-null   float64\n",
      "dtypes: float64(13), object(2)\n",
      "memory usage: 1.1+ MB\n"
     ]
    }
   ],
   "source": [
    "dataset.info() #Tipos de datos sin depurar\n",
    "print('_' * 42)\n",
    "\n",
    "conv_colum = ['CO(GT)', 'C6H6(GT)', 'T', 'RH', 'AH']\n",
    "dataset[conv_colum] = dataset[conv_colum].replace(',', '.', regex=True).astype(float)\n",
    "\n",
    "dataset.info() #Tipos de datos depurados"
   ]
  },
  {
   "cell_type": "markdown",
   "metadata": {},
   "source": [
    "Se observa que las columnas son o de tipo object o float, aunque revisando el dataset, las columnas 'CO(GT)', 'C6H6(GT)', 'T', 'RH' y 'AH' no tiene mucho sentido que sean de tipo object y deberían ser de tipo float ya que son resultados númericos. Esta mala interpretación se debe a que sus números decimales están separados por comas en lugar de punto, por lo que no se interpretan correctamente, por ello he realizado la transformación.\n",
    "\n",
    "Cómo se vió con el comando anterior:\n",
    "- Sin depurar el dataset, hay 7 columnas tipo object y 8 de tipo float.\n",
    "- Una vez depurado se obtienen 2 columnas tipo object y 13 de tipo float.\n",
    "\n",
    "Examinando el dataset podemos ver que tenemos 2 variables categóricas (Date y Time), mientras que el resto son variables continuas."
   ]
  },
  {
   "cell_type": "markdown",
   "metadata": {},
   "source": [
    "#### <b> Valores etiquetados como -200 </b>"
   ]
  },
  {
   "cell_type": "code",
   "execution_count": 362,
   "metadata": {},
   "outputs": [
    {
     "name": "stdout",
     "output_type": "stream",
     "text": [
      "Date                0\n",
      "Time                0\n",
      "CO(GT)           1683\n",
      "PT08.S1(CO)       366\n",
      "NMHC(GT)         8443\n",
      "C6H6(GT)          366\n",
      "PT08.S2(NMHC)     366\n",
      "NOx(GT)          1639\n",
      "PT08.S3(NOx)      366\n",
      "NO2(GT)          1642\n",
      "PT08.S4(NO2)      366\n",
      "PT08.S5(O3)       366\n",
      "T                 366\n",
      "RH                366\n",
      "AH                366\n",
      "dtype: int64\n",
      "__________________________________________\n",
      "Date             0\n",
      "Time             0\n",
      "CO(GT)           0\n",
      "PT08.S1(CO)      0\n",
      "C6H6(GT)         0\n",
      "PT08.S2(NMHC)    0\n",
      "NOx(GT)          0\n",
      "PT08.S3(NOx)     0\n",
      "NO2(GT)          0\n",
      "PT08.S4(NO2)     0\n",
      "PT08.S5(O3)      0\n",
      "T                0\n",
      "RH               0\n",
      "AH               0\n",
      "dtype: int64\n"
     ]
    }
   ],
   "source": [
    "\n",
    "dataset.replace(-200, np.nan, inplace=True) #Reemplazo los '-200' por NaN\n",
    "null_values = dataset.isnull().sum()\n",
    "print(null_values)\n",
    "print('_' * 42)\n",
    "\n",
    "dataset.drop(columns=['NMHC(GT)'], inplace=True) # Elimino la columna NMHC(GT) debido a un alto porcentaje de valores nulos\n",
    "\n",
    "num_col = dataset.select_dtypes(include=[np.number]).columns\n",
    "dataset[num_col] = dataset[num_col].fillna(dataset[num_col].mean()) #Cambio los NaN por la media de esa variable.\n",
    "null_values = dataset.isnull().sum()\n",
    "print(null_values)"
   ]
  },
  {
   "cell_type": "markdown",
   "metadata": {},
   "source": [
    "Según la descripción del dataset en la web hay valores etiquetados como '-200' que indican valores faltantes, los sustituyo por NaN para después sustituirlos por la media de esa variable para tener una ligera aproximación de esos datos.\n",
    "\n",
    "Aunque se observa que para NMHC(GT), especialmente, tiene la mayoría de sus valores como -200, por lo que decido eliminarla directamente."
   ]
  },
  {
   "cell_type": "markdown",
   "metadata": {},
   "source": [
    "#### <b>¿Cuál es la variable objetivo?</b>"
   ]
  },
  {
   "cell_type": "markdown",
   "metadata": {},
   "source": [
    "Elijo como variable objetivo **C6H6(GT) (benceno)** de tipo float, debido a que es un indicador significativo de la calidad del aire y a que como se vio en el apartado anterior es la variable que presenta menos valores faltantes y por tanto a priori puede ofrecer una fiabilidad mayor de los datos."
   ]
  },
  {
   "cell_type": "markdown",
   "metadata": {},
   "source": [
    "#### <b>¿Cómo es la distribución de las variables CO, NOx y NO2? </b>"
   ]
  },
  {
   "cell_type": "code",
   "execution_count": 363,
   "metadata": {},
   "outputs": [
    {
     "name": "stdout",
     "output_type": "stream",
     "text": [
      "            CO(GT)      NOx(GT)      NO2(GT)\n",
      "count  9357.000000  9357.000000  9357.000000\n",
      "mean      2.152750   246.896735   113.091251\n",
      "std       1.316068   193.426632    43.920954\n",
      "min       0.100000     2.000000     2.000000\n",
      "25%       1.200000   112.000000    86.000000\n",
      "50%       2.152750   229.000000   113.091251\n",
      "75%       2.600000   284.000000   133.000000\n",
      "max      11.900000  1479.000000   340.000000\n"
     ]
    },
    {
     "data": {
      "image/png": "[encoded data removed]",
      "text/plain": [
       "<Figure size 1500x500 with 3 Axes>"
      ]
     },
     "metadata": {},
     "output_type": "display_data"
    }
   ],
   "source": [
    "import matplotlib.pyplot as plt\n",
    "import pandas as pd\n",
    "\n",
    "print(dataset[['CO(GT)', 'NOx(GT)', 'NO2(GT)']].describe())\n",
    "\n",
    "columns_of_interest = ['CO(GT)', 'NOx(GT)', 'NO2(GT)']\n",
    "fig, axs = plt.subplots(nrows=1, ncols=3, figsize=(15, 5))\n",
    "\n",
    "for i, col in enumerate(columns_of_interest):\n",
    "    axs[i].hist(dataset[col], bins=30, color='blue', edgecolor='black')\n",
    "    axs[i].set_xlabel(col)\n",
    "    axs[i].set_ylabel('Frequency')\n",
    "    axs[i].grid(True)\n",
    "\n",
    "plt.tight_layout()\n",
    "plt.show()"
   ]
  },
  {
   "cell_type": "markdown",
   "metadata": {},
   "source": [
    "En general para estas variables su distribución se encuentra en torno a la media debido a la desviación estándar que presentan, siendo la distribución de NOx la más dispersa y NO2 la más centrada.\n",
    "\n",
    "Según la mediana y los percentiles la mayoría de los resultados se concentran a la izquierda de la distribución, es decir, las 3 variables presentan una distribución sesgada hacia la izquierda.\n",
    "\n",
    "Tienen algunos datos faltantes, ya que como vimos anteriormente hay 9357 instancias en total y vimos que faltan 1683, 1639 y 1642 para CO(GT), NOx(GT) y NO2(GT) respectivamente, pero estos datos fueron rellenados por la media como aproximación, por lo que los resultados no son fieles del todo.\n",
    "\n",
    "Tienen algunos datos atípicos, esto se observa bien en los extremos de los rangos de cada una de las variables y lo alejados que están respecto a su mediana. Destacando especialmente los casos de CO(GT) y NOx(GT) en los que se multiplica por 5 y por 6 su media. Pueden deberse a errores de medición o a momentos puntuales de muy alta contaminación."
   ]
  },
  {
   "cell_type": "markdown",
   "metadata": {},
   "source": [
    "#### <b>¿Cómo son las correlaciones entre las variables del dataset? </b>"
   ]
  },
  {
   "cell_type": "code",
   "execution_count": 364,
   "metadata": {},
   "outputs": [
    {
     "data": {
      "image/png": "[encoded data removed]",
      "text/plain": [
       "<Figure size 2000x2000 with 2 Axes>"
      ]
     },
     "metadata": {},
     "output_type": "display_data"
    }
   ],
   "source": [
    "import seaborn as sns\n",
    "\n",
    "numeric_columns = dataset.select_dtypes(include=[np.number])\n",
    "corr = numeric_columns.corr()\n",
    "\n",
    "fig, ax = plt.subplots(figsize=(20, 20))\n",
    "\n",
    "#Generar mapa de calor\n",
    "cmap = sns.diverging_palette(20, 220, n=200)\n",
    "sns.heatmap(corr, ax=ax, cmap=cmap, vmin=-1, vmax=1, center=0,\n",
    "            square=True, annot=False, fmt=\".2f\")\n",
    "\n",
    "for i in range(len(corr.columns)):\n",
    "    for j in range(len(corr.columns)):\n",
    "        text = ax.text(j+0.5, i+0.5, f\"{corr.iloc[i, j]:.2f}\", ha=\"center\", va=\"center\", color=\"black\")\n",
    "\n",
    "#Etiquetas de los ejes\n",
    "ax.set_xticklabels(corr.columns, rotation=45, horizontalalignment='right')\n",
    "ax.set_yticklabels(corr.columns)\n",
    "plt.show()"
   ]
  },
  {
   "cell_type": "markdown",
   "metadata": {},
   "source": [
    "Se observan fuertes correlaciones entre los distintos contaminantes y sus respectivos sensores, lo que sugiere que los sensores están cumpliendo su función correctamente, excepto en el caso de NOx, donde su sensor obtiene una correlación negativa con NOx y con todas las demás variables, por lo que probablemente no esté funcionando como debería. \n",
    "\n",
    "También se observa como la correlación de NMHC es muy baja en general, seguramente debido a la gran falta de datos que tenía."
   ]
  },
  {
   "cell_type": "markdown",
   "metadata": {},
   "source": [
    "#### <b>¿Qué tres variables son las más correlacionadas con la variable objetivo? ¿existe alguna variable que no tenga correlación?</b>"
   ]
  },
  {
   "cell_type": "markdown",
   "metadata": {},
   "source": [
    "Las 3 variables más correlacionadas con C6H6(GT) son PT08.S5(O3), PT08.S1(CO), PT08.S2(NMHC) con 0.87, 0.88, 0.98 respectivamente.\n",
    "\n",
    "La alta correlación con PT08.S2(NMHC) se debe principalmente a que el benceno es un hidrocarburo por lo que tiene lógica.\n",
    "\n",
    "Por otro lado, la alta correlación entre CO y C6H6 pueden deberse a su origen, ya que ambos se generan por el tráfico de vehículos (recordemos que en la descripción del dataset se indica que los sensores estaban situados en una zona contaminada de una ciudad italiana).\n",
    "\n",
    "Se observa que tanto la temperatura (T) como la humedad relativa (RH) y la humedad absoluta (AH) tienen muy baja correlación en general llegando en ocasiones a ser negativa.\n",
    "<br> Esto indica que estas 3 variables no aportan demasiado a la concentración de gases contaminantes."
   ]
  },
  {
   "cell_type": "markdown",
   "metadata": {},
   "source": [
    "#### <b> ¿Qué suposiciones se pueden hacer sobre los datos? ¿qué conclusiones se pueden sacar de cara implementar el modelo predictivo?</b>"
   ]
  },
  {
   "cell_type": "markdown",
   "metadata": {},
   "source": [
    " - Los sensores están funcionando correctamente dada su correlación con las variables a medir, excepto para el caso del sensor de NOx que debería ser revisado.\n",
    " - La emisión de los gases parece tener una fuente común que es el tráfico, debido a la alta correlación de C6H6(GT) y CO(GT), gases típicos producidos por vehículos.\n",
    " - Hay un considerable número de valores faltantes en los gases a medir, especialmente en NMHC(GT), esto puede deberse a errores en la recopilación de los datos.\n",
    "___\n",
    " - Las variables que mostraron altas correlaciones con C6H6, como PT08.S5(O3), PT08.S1(CO), PT08.S2(NMHC), tienen que ser incluidas como características principales del modelo. Las variables con baja correlación como (T), (RH) y (AH) pueden ser obviadas ya que no aportan demasiado valor.\n",
    " - Un modelo de predicción lineal puede ser una buena aproximación por la aparente relación entre C6H6 y PT08.S2(NMHC) especialmente."
   ]
  },
  {
   "cell_type": "markdown",
   "metadata": {},
   "source": [
    "***"
   ]
  },
  {
   "cell_type": "markdown",
   "metadata": {},
   "source": [
    "### <b> Regresión </b>"
   ]
  },
  {
   "cell_type": "markdown",
   "metadata": {},
   "source": [
    "Se pretender hacer una comparativa de varios modelos. Unos usarán el algoritmo de regresión lineal, y otros realizarán la predicción haciendo uso de árboles de decisión.\n",
    "\n",
    "Para los primeros modelos se usará el módulo https://scikit-learn.org/stable/modules/generated/sklearn.linear_model.LinearRegression.html "
   ]
  },
  {
   "cell_type": "markdown",
   "metadata": {},
   "source": [
    "El algoritmo de Regresión Lineal necesita saber cuáles son las variables que va a tener en cuenta para realizar la estimación.\n",
    "\n",
    "El primero modelo que se va a probar es una regresión lineal simple."
   ]
  },
  {
   "cell_type": "markdown",
   "metadata": {},
   "source": [
    "### Regresión Lineal Simple"
   ]
  },
  {
   "cell_type": "markdown",
   "metadata": {},
   "source": [
    "Este modelo de caracteriza por involucrar una sola variable independiente (X) como variable predictora del modelo. Se trata de un modelo sencillo y fácil de interpretar."
   ]
  },
  {
   "cell_type": "markdown",
   "metadata": {},
   "source": [
    "#### Separación de datos y escalado"
   ]
  },
  {
   "cell_type": "code",
   "execution_count": 365,
   "metadata": {},
   "outputs": [],
   "source": [
    "from sklearn.model_selection import train_test_split\n",
    "from sklearn.preprocessing import StandardScaler\n",
    "from sklearn.linear_model import LinearRegression\n",
    "\n",
    "X = dataset[['PT08.S2(NMHC)']] # Escojo PT08.S2(NMHC) como variable predictora, ya que tenía una gran correlación con C6H6 de 0.98\n",
    "y = dataset['C6H6(GT)']        # Variable objetivo\n",
    "\n",
    "X_train, X_test, y_train, y_test = train_test_split(X, y, test_size=0.25, random_state=7) # Separo datos de entrenamiento y test\n",
    "\n",
    "# Escalado de los datos para normalizar las características y que el modelo no se vea afectado por la escala de las variables.\n",
    "scaler = StandardScaler()\n",
    "X_train = pd.DataFrame(scaler.fit_transform(X_train), columns=X_train.columns)\n",
    "X_test = pd.DataFrame(scaler.transform(X_test), columns=X_test.columns)"
   ]
  },
  {
   "cell_type": "markdown",
   "metadata": {},
   "source": [
    "#### Creación y entrenamiento del modelo"
   ]
  },
  {
   "cell_type": "code",
   "execution_count": 366,
   "metadata": {},
   "outputs": [
    {
     "data": {
      "text/html": [
       "<style>#sk-container-id-20 {\n",
       "  /* Definition of color scheme common for light and dark mode */\n",
       "  --sklearn-color-text: black;\n",
       "  --sklearn-color-line: gray;\n",
       "  /* Definition of color scheme for unfitted estimators */\n",
       "  --sklearn-color-unfitted-level-0: #fff5e6;\n",
       "  --sklearn-color-unfitted-level-1: #f6e4d2;\n",
       "  --sklearn-color-unfitted-level-2: #ffe0b3;\n",
       "  --sklearn-color-unfitted-level-3: chocolate;\n",
       "  /* Definition of color scheme for fitted estimators */\n",
       "  --sklearn-color-fitted-level-0: #f0f8ff;\n",
       "  --sklearn-color-fitted-level-1: #d4ebff;\n",
       "  --sklearn-color-fitted-level-2: #b3dbfd;\n",
       "  --sklearn-color-fitted-level-3: cornflowerblue;\n",
       "\n",
       "  /* Specific color for light theme */\n",
       "  --sklearn-color-text-on-default-background: var(--sg-text-color, var(--theme-code-foreground, var(--jp-content-font-color1, black)));\n",
       "  --sklearn-color-background: var(--sg-background-color, var(--theme-background, var(--jp-layout-color0, white)));\n",
       "  --sklearn-color-border-box: var(--sg-text-color, var(--theme-code-foreground, var(--jp-content-font-color1, black)));\n",
       "  --sklearn-color-icon: #696969;\n",
       "\n",
       "  @media (prefers-color-scheme: dark) {\n",
       "    /* Redefinition of color scheme for dark theme */\n",
       "    --sklearn-color-text-on-default-background: var(--sg-text-color, var(--theme-code-foreground, var(--jp-content-font-color1, white)));\n",
       "    --sklearn-color-background: var(--sg-background-color, var(--theme-background, var(--jp-layout-color0, #111)));\n",
       "    --sklearn-color-border-box: var(--sg-text-color, var(--theme-code-foreground, var(--jp-content-font-color1, white)));\n",
       "    --sklearn-color-icon: #878787;\n",
       "  }\n",
       "}\n",
       "\n",
       "#sk-container-id-20 {\n",
       "  color: var(--sklearn-color-text);\n",
       "}\n",
       "\n",
       "#sk-container-id-20 pre {\n",
       "  padding: 0;\n",
       "}\n",
       "\n",
       "#sk-container-id-20 input.sk-hidden--visually {\n",
       "  border: 0;\n",
       "  clip: rect(1px 1px 1px 1px);\n",
       "  clip: rect(1px, 1px, 1px, 1px);\n",
       "  height: 1px;\n",
       "  margin: -1px;\n",
       "  overflow: hidden;\n",
       "  padding: 0;\n",
       "  position: absolute;\n",
       "  width: 1px;\n",
       "}\n",
       "\n",
       "#sk-container-id-20 div.sk-dashed-wrapped {\n",
       "  border: 1px dashed var(--sklearn-color-line);\n",
       "  margin: 0 0.4em 0.5em 0.4em;\n",
       "  box-sizing: border-box;\n",
       "  padding-bottom: 0.4em;\n",
       "  background-color: var(--sklearn-color-background);\n",
       "}\n",
       "\n",
       "#sk-container-id-20 div.sk-container {\n",
       "  /* jupyter's `normalize.less` sets `[hidden] { display: none; }`\n",
       "     but bootstrap.min.css set `[hidden] { display: none !important; }`\n",
       "     so we also need the `!important` here to be able to override the\n",
       "     default hidden behavior on the sphinx rendered scikit-learn.org.\n",
       "     See: https://github.com/scikit-learn/scikit-learn/issues/21755 */\n",
       "  display: inline-block !important;\n",
       "  position: relative;\n",
       "}\n",
       "\n",
       "#sk-container-id-20 div.sk-text-repr-fallback {\n",
       "  display: none;\n",
       "}\n",
       "\n",
       "div.sk-parallel-item,\n",
       "div.sk-serial,\n",
       "div.sk-item {\n",
       "  /* draw centered vertical line to link estimators */\n",
       "  background-image: linear-gradient(var(--sklearn-color-text-on-default-background), var(--sklearn-color-text-on-default-background));\n",
       "  background-size: 2px 100%;\n",
       "  background-repeat: no-repeat;\n",
       "  background-position: center center;\n",
       "}\n",
       "\n",
       "/* Parallel-specific style estimator block */\n",
       "\n",
       "#sk-container-id-20 div.sk-parallel-item::after {\n",
       "  content: \"\";\n",
       "  width: 100%;\n",
       "  border-bottom: 2px solid var(--sklearn-color-text-on-default-background);\n",
       "  flex-grow: 1;\n",
       "}\n",
       "\n",
       "#sk-container-id-20 div.sk-parallel {\n",
       "  display: flex;\n",
       "  align-items: stretch;\n",
       "  justify-content: center;\n",
       "  background-color: var(--sklearn-color-background);\n",
       "  position: relative;\n",
       "}\n",
       "\n",
       "#sk-container-id-20 div.sk-parallel-item {\n",
       "  display: flex;\n",
       "  flex-direction: column;\n",
       "}\n",
       "\n",
       "#sk-container-id-20 div.sk-parallel-item:first-child::after {\n",
       "  align-self: flex-end;\n",
       "  width: 50%;\n",
       "}\n",
       "\n",
       "#sk-container-id-20 div.sk-parallel-item:last-child::after {\n",
       "  align-self: flex-start;\n",
       "  width: 50%;\n",
       "}\n",
       "\n",
       "#sk-container-id-20 div.sk-parallel-item:only-child::after {\n",
       "  width: 0;\n",
       "}\n",
       "\n",
       "/* Serial-specific style estimator block */\n",
       "\n",
       "#sk-container-id-20 div.sk-serial {\n",
       "  display: flex;\n",
       "  flex-direction: column;\n",
       "  align-items: center;\n",
       "  background-color: var(--sklearn-color-background);\n",
       "  padding-right: 1em;\n",
       "  padding-left: 1em;\n",
       "}\n",
       "\n",
       "\n",
       "/* Toggleable style: style used for estimator/Pipeline/ColumnTransformer box that is\n",
       "clickable and can be expanded/collapsed.\n",
       "- Pipeline and ColumnTransformer use this feature and define the default style\n",
       "- Estimators will overwrite some part of the style using the `sk-estimator` class\n",
       "*/\n",
       "\n",
       "/* Pipeline and ColumnTransformer style (default) */\n",
       "\n",
       "#sk-container-id-20 div.sk-toggleable {\n",
       "  /* Default theme specific background. It is overwritten whether we have a\n",
       "  specific estimator or a Pipeline/ColumnTransformer */\n",
       "  background-color: var(--sklearn-color-background);\n",
       "}\n",
       "\n",
       "/* Toggleable label */\n",
       "#sk-container-id-20 label.sk-toggleable__label {\n",
       "  cursor: pointer;\n",
       "  display: block;\n",
       "  width: 100%;\n",
       "  margin-bottom: 0;\n",
       "  padding: 0.5em;\n",
       "  box-sizing: border-box;\n",
       "  text-align: center;\n",
       "}\n",
       "\n",
       "#sk-container-id-20 label.sk-toggleable__label-arrow:before {\n",
       "  /* Arrow on the left of the label */\n",
       "  content: \"▸\";\n",
       "  float: left;\n",
       "  margin-right: 0.25em;\n",
       "  color: var(--sklearn-color-icon);\n",
       "}\n",
       "\n",
       "#sk-container-id-20 label.sk-toggleable__label-arrow:hover:before {\n",
       "  color: var(--sklearn-color-text);\n",
       "}\n",
       "\n",
       "/* Toggleable content - dropdown */\n",
       "\n",
       "#sk-container-id-20 div.sk-toggleable__content {\n",
       "  max-height: 0;\n",
       "  max-width: 0;\n",
       "  overflow: hidden;\n",
       "  text-align: left;\n",
       "  /* unfitted */\n",
       "  background-color: var(--sklearn-color-unfitted-level-0);\n",
       "}\n",
       "\n",
       "#sk-container-id-20 div.sk-toggleable__content.fitted {\n",
       "  /* fitted */\n",
       "  background-color: var(--sklearn-color-fitted-level-0);\n",
       "}\n",
       "\n",
       "#sk-container-id-20 div.sk-toggleable__content pre {\n",
       "  margin: 0.2em;\n",
       "  border-radius: 0.25em;\n",
       "  color: var(--sklearn-color-text);\n",
       "  /* unfitted */\n",
       "  background-color: var(--sklearn-color-unfitted-level-0);\n",
       "}\n",
       "\n",
       "#sk-container-id-20 div.sk-toggleable__content.fitted pre {\n",
       "  /* unfitted */\n",
       "  background-color: var(--sklearn-color-fitted-level-0);\n",
       "}\n",
       "\n",
       "#sk-container-id-20 input.sk-toggleable__control:checked~div.sk-toggleable__content {\n",
       "  /* Expand drop-down */\n",
       "  max-height: 200px;\n",
       "  max-width: 100%;\n",
       "  overflow: auto;\n",
       "}\n",
       "\n",
       "#sk-container-id-20 input.sk-toggleable__control:checked~label.sk-toggleable__label-arrow:before {\n",
       "  content: \"▾\";\n",
       "}\n",
       "\n",
       "/* Pipeline/ColumnTransformer-specific style */\n",
       "\n",
       "#sk-container-id-20 div.sk-label input.sk-toggleable__control:checked~label.sk-toggleable__label {\n",
       "  color: var(--sklearn-color-text);\n",
       "  background-color: var(--sklearn-color-unfitted-level-2);\n",
       "}\n",
       "\n",
       "#sk-container-id-20 div.sk-label.fitted input.sk-toggleable__control:checked~label.sk-toggleable__label {\n",
       "  background-color: var(--sklearn-color-fitted-level-2);\n",
       "}\n",
       "\n",
       "/* Estimator-specific style */\n",
       "\n",
       "/* Colorize estimator box */\n",
       "#sk-container-id-20 div.sk-estimator input.sk-toggleable__control:checked~label.sk-toggleable__label {\n",
       "  /* unfitted */\n",
       "  background-color: var(--sklearn-color-unfitted-level-2);\n",
       "}\n",
       "\n",
       "#sk-container-id-20 div.sk-estimator.fitted input.sk-toggleable__control:checked~label.sk-toggleable__label {\n",
       "  /* fitted */\n",
       "  background-color: var(--sklearn-color-fitted-level-2);\n",
       "}\n",
       "\n",
       "#sk-container-id-20 div.sk-label label.sk-toggleable__label,\n",
       "#sk-container-id-20 div.sk-label label {\n",
       "  /* The background is the default theme color */\n",
       "  color: var(--sklearn-color-text-on-default-background);\n",
       "}\n",
       "\n",
       "/* On hover, darken the color of the background */\n",
       "#sk-container-id-20 div.sk-label:hover label.sk-toggleable__label {\n",
       "  color: var(--sklearn-color-text);\n",
       "  background-color: var(--sklearn-color-unfitted-level-2);\n",
       "}\n",
       "\n",
       "/* Label box, darken color on hover, fitted */\n",
       "#sk-container-id-20 div.sk-label.fitted:hover label.sk-toggleable__label.fitted {\n",
       "  color: var(--sklearn-color-text);\n",
       "  background-color: var(--sklearn-color-fitted-level-2);\n",
       "}\n",
       "\n",
       "/* Estimator label */\n",
       "\n",
       "#sk-container-id-20 div.sk-label label {\n",
       "  font-family: monospace;\n",
       "  font-weight: bold;\n",
       "  display: inline-block;\n",
       "  line-height: 1.2em;\n",
       "}\n",
       "\n",
       "#sk-container-id-20 div.sk-label-container {\n",
       "  text-align: center;\n",
       "}\n",
       "\n",
       "/* Estimator-specific */\n",
       "#sk-container-id-20 div.sk-estimator {\n",
       "  font-family: monospace;\n",
       "  border: 1px dotted var(--sklearn-color-border-box);\n",
       "  border-radius: 0.25em;\n",
       "  box-sizing: border-box;\n",
       "  margin-bottom: 0.5em;\n",
       "  /* unfitted */\n",
       "  background-color: var(--sklearn-color-unfitted-level-0);\n",
       "}\n",
       "\n",
       "#sk-container-id-20 div.sk-estimator.fitted {\n",
       "  /* fitted */\n",
       "  background-color: var(--sklearn-color-fitted-level-0);\n",
       "}\n",
       "\n",
       "/* on hover */\n",
       "#sk-container-id-20 div.sk-estimator:hover {\n",
       "  /* unfitted */\n",
       "  background-color: var(--sklearn-color-unfitted-level-2);\n",
       "}\n",
       "\n",
       "#sk-container-id-20 div.sk-estimator.fitted:hover {\n",
       "  /* fitted */\n",
       "  background-color: var(--sklearn-color-fitted-level-2);\n",
       "}\n",
       "\n",
       "/* Specification for estimator info (e.g. \"i\" and \"?\") */\n",
       "\n",
       "/* Common style for \"i\" and \"?\" */\n",
       "\n",
       ".sk-estimator-doc-link,\n",
       "a:link.sk-estimator-doc-link,\n",
       "a:visited.sk-estimator-doc-link {\n",
       "  float: right;\n",
       "  font-size: smaller;\n",
       "  line-height: 1em;\n",
       "  font-family: monospace;\n",
       "  background-color: var(--sklearn-color-background);\n",
       "  border-radius: 1em;\n",
       "  height: 1em;\n",
       "  width: 1em;\n",
       "  text-decoration: none !important;\n",
       "  margin-left: 1ex;\n",
       "  /* unfitted */\n",
       "  border: var(--sklearn-color-unfitted-level-1) 1pt solid;\n",
       "  color: var(--sklearn-color-unfitted-level-1);\n",
       "}\n",
       "\n",
       ".sk-estimator-doc-link.fitted,\n",
       "a:link.sk-estimator-doc-link.fitted,\n",
       "a:visited.sk-estimator-doc-link.fitted {\n",
       "  /* fitted */\n",
       "  border: var(--sklearn-color-fitted-level-1) 1pt solid;\n",
       "  color: var(--sklearn-color-fitted-level-1);\n",
       "}\n",
       "\n",
       "/* On hover */\n",
       "div.sk-estimator:hover .sk-estimator-doc-link:hover,\n",
       ".sk-estimator-doc-link:hover,\n",
       "div.sk-label-container:hover .sk-estimator-doc-link:hover,\n",
       ".sk-estimator-doc-link:hover {\n",
       "  /* unfitted */\n",
       "  background-color: var(--sklearn-color-unfitted-level-3);\n",
       "  color: var(--sklearn-color-background);\n",
       "  text-decoration: none;\n",
       "}\n",
       "\n",
       "div.sk-estimator.fitted:hover .sk-estimator-doc-link.fitted:hover,\n",
       ".sk-estimator-doc-link.fitted:hover,\n",
       "div.sk-label-container:hover .sk-estimator-doc-link.fitted:hover,\n",
       ".sk-estimator-doc-link.fitted:hover {\n",
       "  /* fitted */\n",
       "  background-color: var(--sklearn-color-fitted-level-3);\n",
       "  color: var(--sklearn-color-background);\n",
       "  text-decoration: none;\n",
       "}\n",
       "\n",
       "/* Span, style for the box shown on hovering the info icon */\n",
       ".sk-estimator-doc-link span {\n",
       "  display: none;\n",
       "  z-index: 9999;\n",
       "  position: relative;\n",
       "  font-weight: normal;\n",
       "  right: .2ex;\n",
       "  padding: .5ex;\n",
       "  margin: .5ex;\n",
       "  width: min-content;\n",
       "  min-width: 20ex;\n",
       "  max-width: 50ex;\n",
       "  color: var(--sklearn-color-text);\n",
       "  box-shadow: 2pt 2pt 4pt #999;\n",
       "  /* unfitted */\n",
       "  background: var(--sklearn-color-unfitted-level-0);\n",
       "  border: .5pt solid var(--sklearn-color-unfitted-level-3);\n",
       "}\n",
       "\n",
       ".sk-estimator-doc-link.fitted span {\n",
       "  /* fitted */\n",
       "  background: var(--sklearn-color-fitted-level-0);\n",
       "  border: var(--sklearn-color-fitted-level-3);\n",
       "}\n",
       "\n",
       ".sk-estimator-doc-link:hover span {\n",
       "  display: block;\n",
       "}\n",
       "\n",
       "/* \"?\"-specific style due to the `<a>` HTML tag */\n",
       "\n",
       "#sk-container-id-20 a.estimator_doc_link {\n",
       "  float: right;\n",
       "  font-size: 1rem;\n",
       "  line-height: 1em;\n",
       "  font-family: monospace;\n",
       "  background-color: var(--sklearn-color-background);\n",
       "  border-radius: 1rem;\n",
       "  height: 1rem;\n",
       "  width: 1rem;\n",
       "  text-decoration: none;\n",
       "  /* unfitted */\n",
       "  color: var(--sklearn-color-unfitted-level-1);\n",
       "  border: var(--sklearn-color-unfitted-level-1) 1pt solid;\n",
       "}\n",
       "\n",
       "#sk-container-id-20 a.estimator_doc_link.fitted {\n",
       "  /* fitted */\n",
       "  border: var(--sklearn-color-fitted-level-1) 1pt solid;\n",
       "  color: var(--sklearn-color-fitted-level-1);\n",
       "}\n",
       "\n",
       "/* On hover */\n",
       "#sk-container-id-20 a.estimator_doc_link:hover {\n",
       "  /* unfitted */\n",
       "  background-color: var(--sklearn-color-unfitted-level-3);\n",
       "  color: var(--sklearn-color-background);\n",
       "  text-decoration: none;\n",
       "}\n",
       "\n",
       "#sk-container-id-20 a.estimator_doc_link.fitted:hover {\n",
       "  /* fitted */\n",
       "  background-color: var(--sklearn-color-fitted-level-3);\n",
       "}\n",
       "</style><div id=\"sk-container-id-20\" class=\"sk-top-container\"><div class=\"sk-text-repr-fallback\"><pre>LinearRegression()</pre><b>In a Jupyter environment, please rerun this cell to show the HTML representation or trust the notebook. <br />On GitHub, the HTML representation is unable to render, please try loading this page with nbviewer.org.</b></div><div class=\"sk-container\" hidden><div class=\"sk-item\"><div class=\"sk-estimator fitted sk-toggleable\"><input class=\"sk-toggleable__control sk-hidden--visually\" id=\"sk-estimator-id-20\" type=\"checkbox\" checked><label for=\"sk-estimator-id-20\" class=\"sk-toggleable__label fitted sk-toggleable__label-arrow fitted\">&nbsp;&nbsp;LinearRegression<a class=\"sk-estimator-doc-link fitted\" rel=\"noreferrer\" target=\"_blank\" href=\"https://scikit-learn.org/1.5/modules/generated/sklearn.linear_model.LinearRegression.html\">?<span>Documentation for LinearRegression</span></a><span class=\"sk-estimator-doc-link fitted\">i<span>Fitted</span></span></label><div class=\"sk-toggleable__content fitted\"><pre>LinearRegression()</pre></div> </div></div></div></div>"
      ],
      "text/plain": [
       "LinearRegression()"
      ]
     },
     "execution_count": 366,
     "metadata": {},
     "output_type": "execute_result"
    }
   ],
   "source": [
    "regr = LinearRegression() # Creo el modelo de regresión lineal\n",
    "regr.fit(X_train, y_train) # Entreno el modelo"
   ]
  },
  {
   "cell_type": "markdown",
   "metadata": {},
   "source": [
    "#### <b> ¿Cuáles son los valores aprendidos por el modelo para los parámetros? </b>"
   ]
  },
  {
   "cell_type": "code",
   "execution_count": 367,
   "metadata": {},
   "outputs": [
    {
     "name": "stdout",
     "output_type": "stream",
     "text": [
      "Coeficiente de la pendiente: [7.17259476]\n",
      "Intersección: 10.134134660367776\n"
     ]
    }
   ],
   "source": [
    "print(\"Coeficiente de la pendiente:\", regr.coef_)\n",
    "print(\"Intersección:\", regr.intercept_)"
   ]
  },
  {
   "cell_type": "markdown",
   "metadata": {},
   "source": [
    "Estos parámetros indican:\n",
    "- <b> regr.coef_ </b> nos dice cómo cambia la variable objetivo (Y) por cada unidad de cambio de la variable predictora (X).\n",
    "- <b> regr.intercept_ </b> nos dice el valor de la variable objetivo (Y) cuando la variable predictora (X) es 0. "
   ]
  },
  {
   "cell_type": "markdown",
   "metadata": {},
   "source": [
    "#### Predicciones"
   ]
  },
  {
   "cell_type": "code",
   "execution_count": 368,
   "metadata": {},
   "outputs": [],
   "source": [
    "y_pred = regr.predict(X_test) # Realizo predicciones para los datos de test"
   ]
  },
  {
   "cell_type": "markdown",
   "metadata": {},
   "source": [
    "#### Evaluación del modelo"
   ]
  },
  {
   "cell_type": "code",
   "execution_count": 369,
   "metadata": {},
   "outputs": [
    {
     "name": "stdout",
     "output_type": "stream",
     "text": [
      "R²: 0.9625667852253175\n",
      "MAE: 0.9865475570981751\n"
     ]
    }
   ],
   "source": [
    "from sklearn.metrics import r2_score, mean_absolute_error\n",
    "\n",
    "## R² score para evaluar el modelo de regresión lineal\n",
    "r2 = r2_score(y_test, y_pred)\n",
    "print(\"R²:\", r2)\n",
    "\n",
    "# MAE para evaluar el modelo de regresión lineal\n",
    "mae = mean_absolute_error(y_test, y_pred)\n",
    "print(\"MAE:\", mae)\n"
   ]
  },
  {
   "cell_type": "markdown",
   "metadata": {},
   "source": [
    "#### <b> ¿Qué métrica es mejor utilizar en este caso? ¿Qué error tiene el modelo? </b>"
   ]
  },
  {
   "cell_type": "markdown",
   "metadata": {},
   "source": [
    "He calculado R²para tener una idea general de cómo de bueno/confiable es el modelo en general.\n",
    "<br>Considero que la mejor métrica para este caso es el MAE debido a que es robusta frente a valores anómalos, que ya vimos que estos datos presentan en el EDA.\n",
    "\n",
    "<br> - R²: 0.9626 -> Tiene un valor bastante alto, por lo que el modelo tiene un ajuste muy bueno, siendo capaz de explicar el 96.26% de la variabilidad en los datos de prueba.\n",
    "<br> - MAE: 0.9865 -> Tiene un valor muy bueno, en promedio, las predicciones del modelo son precisas y tienen un error de menos de 1 unidad en las predicciones."
   ]
  },
  {
   "cell_type": "markdown",
   "metadata": {},
   "source": [
    "***"
   ]
  },
  {
   "cell_type": "markdown",
   "metadata": {},
   "source": [
    "### Regresión Lineal Múltiple"
   ]
  },
  {
   "cell_type": "markdown",
   "metadata": {},
   "source": [
    "\n",
    "A diferencia de la Regresión Lineal Simple, este modelo de caracteriza por involucrar dos o más variables independientes (X1, X2, ...) como variables predictoras del modelo. Se trata de un modelo más complejo y difícil de interpretar.\n",
    "\n",
    "A continuación, se va a entrenar un segundo modelo que haga uso de una regresión lineal múltiple con todas las variables del dataset con el fin de poder evaluar sus resultados."
   ]
  },
  {
   "cell_type": "markdown",
   "metadata": {},
   "source": [
    "#### Separación de datos y escalado"
   ]
  },
  {
   "cell_type": "code",
   "execution_count": 370,
   "metadata": {},
   "outputs": [],
   "source": [
    "from sklearn.model_selection import train_test_split\n",
    "from sklearn.preprocessing import StandardScaler\n",
    "from sklearn.linear_model import LinearRegression\n",
    "\n",
    "X = dataset.drop(['Date', 'Time', 'C6H6(GT)'], axis=1) # Variables predictoras (Todo el dataset sin la fecha, la hora y la variable objetivo)\n",
    "y = dataset['C6H6(GT)'] # Variable objetivo\n",
    "\n",
    "X_train, X_test, y_train, y_test = train_test_split(X, y, test_size=0.25, random_state=7) # Separo datos de entrenamiento y test\n",
    "\n",
    "# Escalado de los datos para normalizar las características y que el modelo no se vea afectado por la escala de las variables.\n",
    "scaler = StandardScaler()\n",
    "X_train_scaled = scaler.fit_transform(X_train)\n",
    "X_test_scaled = scaler.transform(X_test)"
   ]
  },
  {
   "cell_type": "markdown",
   "metadata": {},
   "source": [
    "#### Creación, entrenamiento del modelo y predicciones"
   ]
  },
  {
   "cell_type": "code",
   "execution_count": 371,
   "metadata": {},
   "outputs": [
    {
     "name": "stdout",
     "output_type": "stream",
     "text": [
      "Coeficientes: [ 0.37350287  0.30011251  7.4010983   0.45065619  0.91329771 -0.44494646\n",
      "  0.11505911 -0.12021567 -0.88774118 -0.47970447  0.52418524]\n",
      "Intersección: 10.134134660367776\n"
     ]
    }
   ],
   "source": [
    "regr_multi = LinearRegression() # Creo el modelo de regresión lineal múltiple\n",
    "regr_multi.fit(X_train_scaled, y_train) # Entreno el modelo\n",
    "\n",
    "print(\"Coeficientes:\", regr_multi.coef_) # Coeficientes de las variables predictoras \n",
    "print(\"Intersección:\", regr_multi.intercept_) # Intersección\n",
    "\n",
    "y_pred_multi = regr_multi.predict(X_test_scaled) # Realizo predicciones para los datos de test"
   ]
  },
  {
   "cell_type": "markdown",
   "metadata": {},
   "source": [
    "Vemos como ahora hay múltiples coeficientes que representan el peso que tiene la variable predictora en cuestión"
   ]
  },
  {
   "cell_type": "markdown",
   "metadata": {},
   "source": [
    "#### Evaluación del modelo"
   ]
  },
  {
   "cell_type": "code",
   "execution_count": 372,
   "metadata": {},
   "outputs": [
    {
     "name": "stdout",
     "output_type": "stream",
     "text": [
      "R²: 0.9735215402432124\n",
      "MAE: 0.8293691094092543\n"
     ]
    }
   ],
   "source": [
    "from sklearn.metrics import r2_score, mean_absolute_error\n",
    "\n",
    "# R² score para evaluar el modelo de regresión lineal múltiple\n",
    "r2_multi = r2_score(y_test, y_pred_multi)\n",
    "\n",
    "# MAE para evaluar el modelo de regresión lineal múltiple\n",
    "mae_multi = mean_absolute_error(y_test, y_pred_multi)\n",
    "\n",
    "print(\"R²:\", r2_multi)\n",
    "print(\"MAE:\", mae_multi)"
   ]
  },
  {
   "cell_type": "markdown",
   "metadata": {},
   "source": [
    "#### <b> ¿Qué error tiene este modelo?¿Es mejor o peor que el de Regresión Lineal Simple? </b>"
   ]
  },
  {
   "cell_type": "markdown",
   "metadata": {},
   "source": [
    "Si comparamos las medidas de error evaluadas de ambos modelos se obtiene que:\n",
    "\n",
    "Respecto al R²:\n",
    "- Regresión simple: 0.9626\n",
    "- Regresión múltiple: 0.9738\n",
    "\n",
    "Se obtiene una ligera mejoría en la regresión múltiple, por lo que en líneas generales es mejor modelo de predicción.\n",
    "\n",
    "Respecto al MAE:\n",
    "- Regresión simple: 0.9865\n",
    "- Regresión múltiple: 0.8218\n",
    "\n",
    "Se obtiene un MAE menor en la regresión múltiple, lo que indica que los valores obtenidos se ajustan más a la realidad.\n",
    "\n",
    "Por tanto, el <b>modelo de Regresión Lineal Múltiple es superior</b> en este caso, la incorporación de más variables ha resultado favorable para predecir la concentración de C6H6 ya que proporciona predicciones más precisas y fiables."
   ]
  },
  {
   "cell_type": "markdown",
   "metadata": {},
   "source": [
    "***"
   ]
  },
  {
   "cell_type": "markdown",
   "metadata": {},
   "source": [
    "### Regresión con Árboles de Decisión"
   ]
  },
  {
   "cell_type": "markdown",
   "metadata": {},
   "source": [
    "A continuación, se va a realizar un modelo que use árboles de decisión para realizar las predicciones.\n",
    "\n",
    "Para los árboles de decisión, al ser una tarea de regresión, hay que usar el módulo https://scikit-learn.org/stable/modules/generated/sklearn.tree.DecisionTreeRegressor.html\n",
    "\n",
    "El algortimo de DTRegressor necesitar ajustar una serie de hiperparámetros para realizar las predicciones. En general, para los problemas más comunes de regresión, hay que preocuparse de los siguientes hiperparámetros:\n",
    "\n",
    "* **criterion**: Utilizado para medir la calidad de una división. Soporta varios criterios para los árboles de decisión, en concreto para regresiones, los más comunes son MSE, Friedman_mse, MAE y Poisson.\n",
    "  \n",
    "* **splitter**: Es la estrategia utilizada para elegir la división en cada nodo. Las opciones disponibles son best (selecciona la mejor división) y random (elige una división al azar).\n",
    "  \n",
    "* **max_depth**: Es la profundidad máxima del árbol. Si no se especifica, los nodos se expanden hasta que todas las hojas sean puras o hasta que todas las hojas contengan menos que min_samples_split muestras.\n",
    "  \n",
    "* **min_samples_split**: El número mínimo de muestras que debe tener un nodo antes de que pueda ser dividido.\n",
    "  \n",
    "* **min_samples_leaf**: El número mínimo de muestras que debe tener una hoja del árbol. Una hoja es el nodo final de un árbol.\n",
    "  \n",
    "* **max_features**: El número de características a considerar al buscar la mejor división. Puede ser un entero, float, auto, sqrt, log2, o None.\n",
    "  \n",
    "Otro hiperparámetro relevante es min_impurity_decrease.\n",
    "* **min_impurity_decrease**: Establece un umbral para la reducción de la impureza, medida de cuánto debe mejorar la calidad de una división para que la división ocurra. Un nodo solo se dividirá si esta división induce una disminución de la impureza mayor o igual que el valor proporcionado como min_impurity_decrease.\n",
    "  - Ayuda a prevenir el overfitting\n",
    "  - Consigue árboles más simples y menos profundos al aumentar el umbral.\n"
   ]
  },
  {
   "cell_type": "markdown",
   "metadata": {},
   "source": [
    "#### Separación de datos y escalado"
   ]
  },
  {
   "cell_type": "code",
   "execution_count": 373,
   "metadata": {},
   "outputs": [],
   "source": [
    "from sklearn.tree import DecisionTreeRegressor\n",
    "from sklearn.model_selection import train_test_split\n",
    "from sklearn.preprocessing import StandardScaler\n",
    "\n",
    "X = dataset.drop(['Date', 'Time', 'C6H6(GT)'], axis=1) # Variables predictoras (Todo el dataset sin la fecha, la hora y la variable objetivo)\n",
    "y = dataset['C6H6(GT)'] # Variable objetivo\n",
    "\n",
    "X_train, X_test, y_train, y_test = train_test_split(X, y, test_size=0.25, random_state=7) # Separo datos de entrenamiento y test\n",
    "\n",
    "# Escalado de los datos para normalizar las características y que el modelo no se vea afectado por la escala de las variables.\n",
    "scaler = StandardScaler()\n",
    "X_train_scaled = scaler.fit_transform(X_train)\n",
    "X_test_scaled = scaler.transform(X_test)"
   ]
  },
  {
   "cell_type": "markdown",
   "metadata": {},
   "source": [
    "#### Creación, entrenamiento del modelo y predicciones"
   ]
  },
  {
   "cell_type": "code",
   "execution_count": 374,
   "metadata": {},
   "outputs": [],
   "source": [
    "# Creo el modelo de árbol de decisión\n",
    "tree = DecisionTreeRegressor(\n",
    "    criterion='poisson',    #Criterio de Poisson\n",
    "    max_depth=7,           #Profundidad máxima del árbol\n",
    "    min_samples_split=5,   #Mínimo de muestras para dividir un nodo\n",
    "    min_samples_leaf=2,     #Mínimo de muestras para ser una hoja\n",
    "    max_features=None       #Se usan todas las características\n",
    ")\n",
    "\n",
    "tree.fit(X_train_scaled, y_train) # Entreno el modelo\n",
    "\n",
    "y_pred = tree.predict(X_test_scaled) # Realizo predicciones para los datos de test"
   ]
  },
  {
   "cell_type": "markdown",
   "metadata": {},
   "source": [
    "#### Evaluación del modelo"
   ]
  },
  {
   "cell_type": "code",
   "execution_count": 375,
   "metadata": {},
   "outputs": [
    {
     "name": "stdout",
     "output_type": "stream",
     "text": [
      "R²: 0.9985337800482315\n",
      "MAE: 0.07005154879050304\n",
      "RMSLE: 0.010735703469449784\n"
     ]
    }
   ],
   "source": [
    "from sklearn.metrics import mean_absolute_error, r2_score, mean_squared_log_error\n",
    "import numpy as np\n",
    "\n",
    "# Calculo el R² score\n",
    "r2 = r2_score(y_test, y_pred)\n",
    "print(\"R²:\", r2)\n",
    "\n",
    "# Calculo el MAE para evaluar el modelo de árbol de decisión\n",
    "mae = mean_absolute_error(y_test, y_pred)\n",
    "print(\"MAE:\", mae)\n",
    "\n",
    "# Calculo el RMSLE\n",
    "y_test_adjusted = [max(x, 1e-6) for x in y_test] # Ajusto los valores de y_test para evitar errores en el cálculo del RMSLE\n",
    "y_pred_adjusted = [max(x, 1e-6) for x in y_pred] # Ajusto los valores de y_pred para evitar errores en el cálculo del RMSLE\n",
    "rmsle = np.sqrt(mean_squared_log_error(y_test_adjusted, y_pred_adjusted)) # Calculo el RMSLE\n",
    "print(\"RMSLE:\", rmsle)"
   ]
  },
  {
   "cell_type": "markdown",
   "metadata": {},
   "source": [
    "<br> - R²: 0.9984 -> Tiene un valor extremadamente alto, siendo capaz de explicar el 99.85% de la variabilidad en los datos de prueba.\n",
    "<br> - MAE: 0.0714 -> Tiene un error promedio muy pequeño, lo que indica que las predicciones son muy precisas.\n",
    "<br> - RMSLE: 0.0108 -> Tiene un valor realmente pequeño también, lo que sugiere que los errores relativos entre las predicciones y los valores reales son mínimos."
   ]
  },
  {
   "cell_type": "markdown",
   "metadata": {},
   "source": [
    "#### **¿Existe overfitting?**"
   ]
  },
  {
   "cell_type": "markdown",
   "metadata": {},
   "source": [
    "Este fenómeno ocurre cuando el modelo se ajusta demasiado a los datos de entrenamiento, perdiendo la capacidad de generalizar en datos nuevos.\n",
    "\n",
    "Es posible que exista overfitting ya que los resultados obtenidos en su evaluación son realmente buenos, aunque los modelos de regresión anteriores ya lo eran también. Para comprobar si hay overfitting se puede:\n",
    "- Hacer una comparación de métricas de rendimiento entre los conjuntos de entrenamiento y test.\n",
    "- Hacer una validación cruzada.\n",
    "- Hacer un proceso de poda, es decir, se juega con los hiperparámetros para ver si hay un cambio sustancial en los resultados.\n",
    "\n",
    "A continuación se realizarán estas técnicas para comprobar la existencia de overfitting en el modelo."
   ]
  },
  {
   "cell_type": "markdown",
   "metadata": {},
   "source": [
    "##### Comparación de métricas de rendimiento entre los conjuntos de entrenamiento y test"
   ]
  },
  {
   "cell_type": "markdown",
   "metadata": {},
   "source": [
    "Algunos indicadores de overfitting son:\n",
    "- Un R² (entrenamiento) mucho mayor que el R² (test) sugiere que el modelo está ajustándose demasiado a los datos de entrenamiento y no generaliza bien.\n",
    "- Valores de R² (entrenamiento) de 1.0 indican que el modelo está aprendiendo incluso el ruido de los datos, lo cual puede no ser deseable.\n",
    "- Si el MAE o RMSLE en el conjunto de prueba son notablemente mayores que en el entrenamiento, es otra señal de overfitting."
   ]
  },
  {
   "cell_type": "code",
   "execution_count": 376,
   "metadata": {},
   "outputs": [
    {
     "name": "stdout",
     "output_type": "stream",
     "text": [
      "MAE (entrenamiento): 0.061313137053443614\n",
      "R² (entrenamiento): 0.999830368456387\n",
      "RMSLE (entrenamiento): 0.00893925565648641\n",
      "\n",
      "MAE (test): 0.07005154879050304\n",
      "R² (test): 0.9985337800482315\n",
      "RMSLE (test): 0.010735703469449784\n",
      "\n",
      "Comparación entre entrenamiento y test:\n",
      "Diferencia MAE: -0.008738411737059429\n",
      "Diferencia R²: 0.0012965884081554968\n",
      "Diferencia RMSLE: -0.0017964478129633733\n"
     ]
    }
   ],
   "source": [
    "# Predicciones en los datos de entrenamiento\n",
    "y_train_pred = tree.predict(X_train_scaled)\n",
    "\n",
    "# Evaluación en los datos de entrenamiento\n",
    "mae_train = mean_absolute_error(y_train, y_train_pred)\n",
    "print(\"MAE (entrenamiento):\", mae_train)\n",
    "\n",
    "r2_train = r2_score(y_train, y_train_pred)\n",
    "print(\"R² (entrenamiento):\", r2_train)\n",
    "\n",
    "y_train_adjusted = [max(x, 1e-6) for x in y_train]\n",
    "y_train_pred_adjusted = [max(x, 1e-6) for x in y_train_pred]\n",
    "rmsle_train = np.sqrt(mean_squared_log_error(y_train_adjusted, y_train_pred_adjusted))\n",
    "print(\"RMSLE (entrenamiento):\", rmsle_train)\n",
    "\n",
    "# Evaluación en los datos de test\n",
    "print(\"\\nMAE (test):\", mae)\n",
    "print(\"R² (test):\", r2)\n",
    "print(\"RMSLE (test):\", rmsle)\n",
    "\n",
    "#Comparación entre entrenamiento y test para evaluar el sobreajuste del modelo\n",
    "print(\"\\nComparación entre entrenamiento y test:\")\n",
    "print(\"Diferencia MAE:\", mae_train - mae)\n",
    "print(\"Diferencia R²:\", r2_train - r2)\n",
    "print(\"Diferencia RMSLE:\", rmsle_train - rmsle)\n"
   ]
  },
  {
   "cell_type": "markdown",
   "metadata": {},
   "source": [
    "Se observa en la comparación que el modelo tiene un rendimiento muy similar tanto en los datos de test como en los de entrenamiento, por lo que no parece sufrir overfitting."
   ]
  },
  {
   "cell_type": "markdown",
   "metadata": {},
   "source": [
    "##### Incorporando validación cruzada al modelo"
   ]
  },
  {
   "cell_type": "markdown",
   "metadata": {},
   "source": [
    "Con la validación cruzada se busca dividir los datos en \"𝑘\" conjuntos (pliegues) para entrenar y evaluar el modelo en diferentes combinaciones de estos datos. Cada pliegue sirve como un conjunto de validación una vez, mientras que los 𝑘−1 pliegues restantes se usan como el conjunto de entrenamiento. El proceso se repite 𝑘 veces, cambiando en cada iteración cuál pliegue se usa como conjunto de validación.\n",
    "\n",
    "Esto permite que cada punto del dataset sea usado tanto para entrenar como para validar el modelo."
   ]
  },
  {
   "cell_type": "code",
   "execution_count": 377,
   "metadata": {},
   "outputs": [
    {
     "name": "stdout",
     "output_type": "stream",
     "text": [
      "Validación cruzada R² por pliegue: [0.99981113 0.99888851 0.99973326 0.99978799 0.99961954]\n",
      "Promedio de R² (validación cruzada): 0.999568088180242\n",
      "Desviación estándar de R²: 0.00034617369309052786\n",
      "__________________________________________\n",
      "Validación cruzada MAE por pliegue: [0.0621861  0.07570986 0.06846517 0.06971426 0.07418727]\n",
      "Promedio de MAE (validación cruzada): 0.07005253138263622\n",
      "Desviación estándar de MAE: 0.004766891049313016\n",
      "__________________________________________\n",
      "Evaluación en el conjunto de test:\n",
      "R²: 0.9984289870618961\n",
      "MAE: 0.07147605021500456\n",
      "RMSLE: 0.010836396440582914\n"
     ]
    }
   ],
   "source": [
    "from sklearn.model_selection import cross_val_score\n",
    "\n",
    "X = dataset.drop(['Date', 'Time', 'C6H6(GT)'], axis=1) # Variables predictoras (Todo el dataset sin la fecha, la hora y la variable objetivo)\n",
    "y = dataset['C6H6(GT)'] # Variable objetivo\n",
    "\n",
    "X_train, X_test, y_train, y_test = train_test_split(X, y, test_size=0.25, random_state=7) # Separo datos de entrenamiento y test\n",
    "\n",
    "# Escalo los datos de entrenamiento y test\n",
    "scaler = StandardScaler()\n",
    "X_train_scaled = scaler.fit_transform(X_train)\n",
    "X_test_scaled = scaler.transform(X_test)\n",
    "\n",
    "# Creo el modelo de árbol de decisión\n",
    "tree = DecisionTreeRegressor(\n",
    "    criterion='poisson',    # Criterio de Poisson\n",
    "    max_depth=7,           # Profundidad máxima del árbol\n",
    "    min_samples_split=5,   # Mínimo de muestras para dividir un nodo\n",
    "    min_samples_leaf=2,     # Mínimo de muestras para ser una hoja\n",
    "    max_features=None       # Se usan todas las características\n",
    ")\n",
    "\n",
    "#------------------------------------------\n",
    "# Validación cruzada con 5 pliegues\n",
    "scores_r2 = cross_val_score(tree, X_train_scaled, y_train, cv=5, scoring='r2')  # R²\n",
    "scores_mae = cross_val_score(tree, X_train_scaled, y_train, cv=5, scoring='neg_mean_absolute_error')  # MAE (negativo)\n",
    "\n",
    "# Convierto MAE a positivo porque cross_val_score devuelve valores negativos para métricas de error\n",
    "scores_mae = -scores_mae\n",
    "\n",
    "# Resultados de validación cruzada\n",
    "print(\"Validación cruzada R² por pliegue:\", scores_r2)\n",
    "print(\"Promedio de R² (validación cruzada):\", np.mean(scores_r2))\n",
    "print(\"Desviación estándar de R²:\", np.std(scores_r2))\n",
    "print('_' * 42)\n",
    "print(\"Validación cruzada MAE por pliegue:\", scores_mae)\n",
    "print(\"Promedio de MAE (validación cruzada):\", np.mean(scores_mae))\n",
    "print(\"Desviación estándar de MAE:\", np.std(scores_mae))\n",
    "#------------------------------------------\n",
    "\n",
    "tree.fit(X_train_scaled, y_train) # Entreno el modelo\n",
    "\n",
    "y_pred = tree.predict(X_test_scaled) # Realizo predicciones para los datos de test\n",
    "\n",
    "# Métricas en el conjunto de test\n",
    "r2 = r2_score(y_test, y_pred)\n",
    "mae = mean_absolute_error(y_test, y_pred)\n",
    "y_test_adjusted = [max(x, 1e-6) for x in y_test]\n",
    "y_pred_adjusted = [max(x, 1e-6) for x in y_pred]\n",
    "rmsle = np.sqrt(mean_squared_log_error(y_test_adjusted, y_pred_adjusted))\n",
    "\n",
    "print('_' * 42)\n",
    "print(\"Evaluación en el conjunto de test:\")\n",
    "print(\"R²:\", r2)\n",
    "print(\"MAE:\", mae)\n",
    "print(\"RMSLE:\", rmsle)\n"
   ]
  },
  {
   "cell_type": "markdown",
   "metadata": {},
   "source": [
    "Comparando los resultados obtenidos se puede ver que el conjunto de test es muy similar al de validación cruzada, lo que indica que el modelo generaliza bien y no tiene un problema significativo de overfitting."
   ]
  },
  {
   "cell_type": "markdown",
   "metadata": {},
   "source": [
    "##### Proceso de poda (experimentar con los hiperparámetros)"
   ]
  },
  {
   "cell_type": "markdown",
   "metadata": {},
   "source": [
    "Para realizar una poda en el árbol y comprobar si existe overfitting, se puede experimentar con los hiperparámetros que controlan su complejidad. Estos hiperparámetros permiten limitar la profundidad del árbol o la cantidad mínima de datos necesarios para dividir nodos o formar hojas, evitando que el modelo se ajuste demasiado a los datos de entrenamiento.\n",
    "\n",
    "- max_depth\n",
    "- min_samples_split\n",
    "- min_samples_leaf\n",
    "- max_features"
   ]
  },
  {
   "cell_type": "code",
   "execution_count": 378,
   "metadata": {},
   "outputs": [
    {
     "name": "stdout",
     "output_type": "stream",
     "text": [
      "max_depth=5, min_samples_split=5, min_samples_leaf=2\n",
      "  MAE (entrenamiento): 0.2552, R² (entrenamiento): 0.9973, RMSLE (entrenamiento): 0.0352\n",
      "  MAE (test): 0.2643, R² (test): 0.9948, RMSLE (test): 0.0369\n",
      "__________________________________________________\n",
      "max_depth=5, min_samples_split=5, min_samples_leaf=5\n",
      "  MAE (entrenamiento): 0.2552, R² (entrenamiento): 0.9973, RMSLE (entrenamiento): 0.0352\n",
      "  MAE (test): 0.2643, R² (test): 0.9948, RMSLE (test): 0.0369\n",
      "__________________________________________________\n",
      "max_depth=5, min_samples_split=10, min_samples_leaf=2\n",
      "  MAE (entrenamiento): 0.2552, R² (entrenamiento): 0.9973, RMSLE (entrenamiento): 0.0352\n",
      "  MAE (test): 0.2643, R² (test): 0.9948, RMSLE (test): 0.0369\n",
      "__________________________________________________\n",
      "max_depth=5, min_samples_split=10, min_samples_leaf=5\n",
      "  MAE (entrenamiento): 0.2552, R² (entrenamiento): 0.9973, RMSLE (entrenamiento): 0.0352\n",
      "  MAE (test): 0.2643, R² (test): 0.9948, RMSLE (test): 0.0369\n",
      "__________________________________________________\n",
      "max_depth=7, min_samples_split=5, min_samples_leaf=2\n",
      "  MAE (entrenamiento): 0.0613, R² (entrenamiento): 0.9998, RMSLE (entrenamiento): 0.0089\n",
      "  MAE (test): 0.0715, R² (test): 0.9984, RMSLE (test): 0.0108\n",
      "__________________________________________________\n",
      "max_depth=7, min_samples_split=5, min_samples_leaf=5\n",
      "  MAE (entrenamiento): 0.0619, R² (entrenamiento): 0.9998, RMSLE (entrenamiento): 0.0090\n",
      "  MAE (test): 0.0711, R² (test): 0.9982, RMSLE (test): 0.0110\n",
      "__________________________________________________\n",
      "max_depth=7, min_samples_split=10, min_samples_leaf=2\n",
      "  MAE (entrenamiento): 0.0619, R² (entrenamiento): 0.9998, RMSLE (entrenamiento): 0.0090\n",
      "  MAE (test): 0.0711, R² (test): 0.9982, RMSLE (test): 0.0110\n",
      "__________________________________________________\n",
      "max_depth=7, min_samples_split=10, min_samples_leaf=5\n",
      "  MAE (entrenamiento): 0.0619, R² (entrenamiento): 0.9998, RMSLE (entrenamiento): 0.0090\n",
      "  MAE (test): 0.0711, R² (test): 0.9982, RMSLE (test): 0.0110\n",
      "__________________________________________________\n",
      "max_depth=10, min_samples_split=5, min_samples_leaf=2\n",
      "  MAE (entrenamiento): 0.0052, R² (entrenamiento): 1.0000, RMSLE (entrenamiento): 0.0020\n",
      "  MAE (test): 0.0203, R² (test): 0.9986, RMSLE (test): 0.0066\n",
      "__________________________________________________\n",
      "max_depth=10, min_samples_split=5, min_samples_leaf=5\n",
      "  MAE (entrenamiento): 0.0108, R² (entrenamiento): 0.9999, RMSLE (entrenamiento): 0.0029\n",
      "  MAE (test): 0.0214, R² (test): 0.9983, RMSLE (test): 0.0066\n",
      "__________________________________________________\n",
      "max_depth=10, min_samples_split=10, min_samples_leaf=2\n",
      "  MAE (entrenamiento): 0.0095, R² (entrenamiento): 0.9999, RMSLE (entrenamiento): 0.0027\n",
      "  MAE (test): 0.0215, R² (test): 0.9983, RMSLE (test): 0.0067\n",
      "__________________________________________________\n",
      "max_depth=10, min_samples_split=10, min_samples_leaf=5\n",
      "  MAE (entrenamiento): 0.0108, R² (entrenamiento): 0.9999, RMSLE (entrenamiento): 0.0029\n",
      "  MAE (test): 0.0215, R² (test): 0.9983, RMSLE (test): 0.0067\n",
      "__________________________________________________\n"
     ]
    }
   ],
   "source": [
    "X = dataset.drop(['Date', 'Time', 'C6H6(GT)'], axis=1) # Variables predictoras (Todo el dataset sin la fecha, la hora y la variable objetivo)\n",
    "y = dataset['C6H6(GT)'] # Variable objetivo\n",
    "\n",
    "X_train, X_test, y_train, y_test = train_test_split(X, y, test_size=0.25, random_state=7) # Separo datos de entrenamiento y test\n",
    "\n",
    "# Escalado de los datos para normalizar las características y que el modelo no se vea afectado por la escala de las variables.\n",
    "scaler = StandardScaler()\n",
    "X_train_scaled = scaler.fit_transform(X_train)\n",
    "X_test_scaled = scaler.transform(X_test)\n",
    "\n",
    "#------------------------------------------\n",
    "# Función para evaluar el modelo probando diferentes hiperparámetros\n",
    "\n",
    "def evaluate_tree(max_depth, min_samples_split, min_samples_leaf):\n",
    "    # Creo el modelo de árbol con los hiperparámetros específicos\n",
    "    tree = DecisionTreeRegressor(\n",
    "        criterion='poisson',\n",
    "        max_depth=max_depth,\n",
    "        min_samples_split=min_samples_split,\n",
    "        min_samples_leaf=min_samples_leaf\n",
    "    )\n",
    "    tree.fit(X_train_scaled, y_train)  # Entreno el modelo\n",
    "\n",
    "    y_train_pred = tree.predict(X_train_scaled) # Realizo predicciones para los datos de entrenamiento\n",
    "    y_test_pred = tree.predict(X_test_scaled) # Realizo predicciones para los datos de test\n",
    "\n",
    "    # Evaluación en entrenamiento\n",
    "    mae_train = mean_absolute_error(y_train, y_train_pred)\n",
    "    r2_train = r2_score(y_train, y_train_pred)\n",
    "    y_train_adjusted = [max(x, 1e-6) for x in y_train]\n",
    "    y_train_pred_adjusted = [max(x, 1e-6) for x in y_train_pred]\n",
    "    rmsle_train = np.sqrt(mean_squared_log_error(y_train_adjusted, y_train_pred_adjusted))\n",
    "\n",
    "    # Evaluación en test\n",
    "    mae_test = mean_absolute_error(y_test, y_test_pred)\n",
    "    r2_test = r2_score(y_test, y_test_pred)\n",
    "    y_test_adjusted = [max(x, 1e-6) for x in y_test]\n",
    "    y_test_pred_adjusted = [max(x, 1e-6) for x in y_test_pred]\n",
    "    rmsle_test = np.sqrt(mean_squared_log_error(y_test_adjusted, y_test_pred_adjusted))\n",
    "\n",
    "    # Imprimo los resultados\n",
    "    print(f\"max_depth={max_depth}, min_samples_split={min_samples_split}, min_samples_leaf={min_samples_leaf}\")\n",
    "    print(f\"  MAE (entrenamiento): {mae_train:.4f}, R² (entrenamiento): {r2_train:.4f}, RMSLE (entrenamiento): {rmsle_train:.4f}\")\n",
    "    print(f\"  MAE (test): {mae_test:.4f}, R² (test): {r2_test:.4f}, RMSLE (test): {rmsle_test:.4f}\")\n",
    "    print(\"_\" * 50)\n",
    "\n",
    "# Pruebo diferentes configuraciones de hiperparámetros\n",
    "for max_depth in [5, 7, 10]:\n",
    "    for min_samples_split in [5, 10]:\n",
    "        for min_samples_leaf in [2, 5]:\n",
    "            evaluate_tree(max_depth, min_samples_split, min_samples_leaf) # Llamo a la función para evaluar el modelo\n",
    "#------------------------------------------\n"
   ]
  },
  {
   "cell_type": "markdown",
   "metadata": {},
   "source": [
    "Analizando los resultados:\n",
    "\n",
    "- Para max_depth = 5 -> Las métricas son muy similares entre entrenamiento y test. Esto sugiere que el modelo generaliza bien. No hay indicios de overfitting con esta configuración.\n",
    "\n",
    "- Para max_depth = 7 -> Las métricas de prueba son ligeramente inferiores a las de entrenamiento, pero las diferencias son pequeñas. El modelo está capturando mejor la complejidad de los datos que con max_depth=5, con un menor error absoluto y relativo. No hay indicios claros de overfitting.\n",
    "\n",
    "- Para max_depth = 10 -> El R² en entrenamiento es perfecto (1), lo que indica que el modelo está ajustándose completamente a los datos de entrenamiento, capturando incluso el ruido. Aunque las métricas en prueba siguen siendo excelentes, las diferencias con las de entrenamiento son más notables, lo que es un indicio de leve overfitting.\n",
    "\n",
    "Por tanto, de las 3 opciones evaluadas max_depth = 7 es la que tiene mejor equilibrio entre ajuste y generalización."
   ]
  },
  {
   "cell_type": "markdown",
   "metadata": {},
   "source": [
    "### Conclusiones"
   ]
  },
  {
   "cell_type": "markdown",
   "metadata": {},
   "source": [
    "#### **¿Ha sido relevante el EDA?**"
   ]
  },
  {
   "cell_type": "markdown",
   "metadata": {},
   "source": [
    "El EDA me permite preparar los datos, detectar problemas y conocer mejor la naturaleza de los datos, de forma que pueda tomar decisiones más informadas como se ha visto en la elección de mi variable objetivo o para encontrar la mejor variable predictora."
   ]
  },
  {
   "cell_type": "markdown",
   "metadata": {},
   "source": [
    "#### **¿Qué modelo se ha comportado mejor? ¿Regresión lineal simple, múltiple o árboles de decisión?**"
   ]
  },
  {
   "cell_type": "markdown",
   "metadata": {},
   "source": [
    "Si recopilamos los resultados de evaluación de cada uno de los modelos:\n",
    "\n",
    "| Modelo                  | R²       | MAE         | RMSLE         |\n",
    "|-------------------------|----------|-------------|---------------|\n",
    "| Regresión Lineal Simple | 0.9626   | 0.9865      | N/A           |\n",
    "| Regresión Lineal Múltiple | 0.9738   | 0.8218      | N/A           |\n",
    "| Árbol de Decisión       | 0.9985   | 0.0701      | 0.0107        |\n"
   ]
  },
  {
   "cell_type": "markdown",
   "metadata": {},
   "source": [
    "Se obtuvieron buenos resultados con los modelos de regresión lineal, tanto simple como múltiple, siendo este último ligeramente superior. \n",
    "\n",
    "Por otro lado, el modelo de **regresión de árbol de decisión** se mostró bastante superior, ya que su R² evidencia un mejor ajuste respecto a sus rivales, un MAE mucho más bajo, lo que hace que sus predicciones sean aún más precisas, y un RMSLE muy reducido, lo que indica que maneja muy bien las diferencias de proporción entre los valores predichos y los valores reales. Por tanto, este modelo es el que ofrece una mayor fiabilidad y precisión en la predicción de los datos que se busca obtener. Aunque se sospechó que pudiera sufrir de sobreajuste, tras las pruebas realizadas no parece ser el caso.\n",
    "\n",
    "Ahora bien, los árboles de decisión requieren de más memoria y tiempo de procesamiento ya que son más complejos, a diferencia de los modelos de regresión lineal que son normalmente más rápidos y requieren menos recursos, por lo que según las circunstancias elegir uno de los modelos de regresión lineal puede ser una mejor opción a cambio de sacrificar fiabilidad y precisión.\n"
   ]
  }
 ],
 "metadata": {
  "kernelspec": {
   "display_name": "base",
   "language": "python",
   "name": "python3"
  },
  "language_info": {
   "codemirror_mode": {
    "name": "ipython",
    "version": 3
   },
   "file_extension": ".py",
   "mimetype": "text/x-python",
   "name": "python",
   "nbconvert_exporter": "python",
   "pygments_lexer": "ipython3",
   "version": "3.12.7"
  }
 },
 "nbformat": 4,
 "nbformat_minor": 2
}
